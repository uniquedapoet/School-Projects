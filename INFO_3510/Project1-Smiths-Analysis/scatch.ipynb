{
 "cells": [
  {
   "cell_type": "code",
   "execution_count": 1,
   "metadata": {},
   "outputs": [
    {
     "name": "stdout",
     "output_type": "stream",
     "text": [
      "Access Token: n_dUZjFgrozY0ong2Ng3I1I2QkTYj68qZ2QiPzQG-8Sq0Hssk7ziGMecpeTPNEnS\n"
     ]
    }
   ],
   "source": [
    "import requests\n",
    "import os\n",
    "from dotenv import load_dotenv\n",
    "def get_access_token(url, client_id, client_secret):\n",
    "    url = url\n",
    "    data = {\n",
    "        'client_id': client_id,\n",
    "        'client_secret': client_secret,\n",
    "        'grant_type': 'client_credentials'\n",
    "    }\n",
    "    response = requests.post(url, data=data)\n",
    "    response_data = response.json()\n",
    "    if response.status_code != 200:\n",
    "        print('Error:', response_data['error'])\n",
    "        return None\n",
    "    else:\n",
    "        print('Access Token:', response_data['access_token'])\n",
    "        return response_data['access_token']\n",
    "load_dotenv('3510.env')\n",
    "client_id = os.getenv('GENIUS_CLIENT_ID')\n",
    "client_secret = os.getenv('GENIUS_SECRET')\n",
    "access_token = get_access_token(url='https://api.genius.com/oauth/token', client_id=client_id, client_secret=client_secret)"
   ]
  },
  {
   "cell_type": "code",
   "execution_count": 4,
   "metadata": {},
   "outputs": [],
   "source": [
    "url = 'https://api.genius.com/search'\n",
    "headers = {\n",
    "    'Authorization': f'Bearer {access_token}'\n",
    "}\n",
    "params = {\n",
    "    'q': 'Heaven Knows I’m Miserable Now',\n",
    "}\n",
    "response = requests.get(url, headers=headers, params=params).json()"
   ]
  },
  {
   "cell_type": "code",
   "execution_count": 7,
   "metadata": {},
   "outputs": [
    {
     "data": {
      "text/plain": [
       "{'annotation_count': 7,\n",
       " 'api_path': '/songs/206338',\n",
       " 'artist_names': 'The Smiths',\n",
       " 'full_title': \"Heaven Knows I'm Miserable Now by\\xa0The\\xa0Smiths\",\n",
       " 'header_image_thumbnail_url': 'https://images.genius.com/eba62ad20dc3c470bc9a86bb40d7d458.300x300x1.jpg',\n",
       " 'header_image_url': 'https://images.genius.com/eba62ad20dc3c470bc9a86bb40d7d458.1000x1000x1.jpg',\n",
       " 'id': 206338,\n",
       " 'lyrics_owner_id': 265732,\n",
       " 'lyrics_state': 'complete',\n",
       " 'path': '/The-smiths-heaven-knows-im-miserable-now-lyrics',\n",
       " 'primary_artist_names': 'The Smiths',\n",
       " 'pyongs_count': 43,\n",
       " 'relationships_index_url': 'https://genius.com/The-smiths-heaven-knows-im-miserable-now-sample',\n",
       " 'release_date_components': {'year': 1984, 'month': 5, 'day': 21},\n",
       " 'release_date_for_display': 'May 21, 1984',\n",
       " 'release_date_with_abbreviated_month_for_display': 'May. 21, 1984',\n",
       " 'song_art_image_thumbnail_url': 'https://images.genius.com/1b7cfc289dc7519819480cf232082c57.300x300x1.jpg',\n",
       " 'song_art_image_url': 'https://images.genius.com/1b7cfc289dc7519819480cf232082c57.800x800x1.jpg',\n",
       " 'stats': {'unreviewed_annotations': 0,\n",
       "  'concurrents': 3,\n",
       "  'hot': False,\n",
       "  'pageviews': 430058},\n",
       " 'title': 'Heaven Knows I’m Miserable Now',\n",
       " 'title_with_featured': \"Heaven Knows I'm Miserable Now\",\n",
       " 'url': 'https://genius.com/The-smiths-heaven-knows-im-miserable-now-lyrics',\n",
       " 'featured_artists': [],\n",
       " 'primary_artist': {'api_path': '/artists/16669',\n",
       "  'header_image_url': 'https://images.genius.com/bc2a15aa8f90d86c5d76be3d40ed7a0c.770x584x1.jpg',\n",
       "  'id': 16669,\n",
       "  'image_url': 'https://images.genius.com/3fc6cae07767241ae2d54c14abc0ea8e.1000x1000x1.jpg',\n",
       "  'is_meme_verified': False,\n",
       "  'is_verified': False,\n",
       "  'name': 'The Smiths',\n",
       "  'url': 'https://genius.com/artists/The-smiths'},\n",
       " 'primary_artists': [{'api_path': '/artists/16669',\n",
       "   'header_image_url': 'https://images.genius.com/bc2a15aa8f90d86c5d76be3d40ed7a0c.770x584x1.jpg',\n",
       "   'id': 16669,\n",
       "   'image_url': 'https://images.genius.com/3fc6cae07767241ae2d54c14abc0ea8e.1000x1000x1.jpg',\n",
       "   'is_meme_verified': False,\n",
       "   'is_verified': False,\n",
       "   'name': 'The Smiths',\n",
       "   'url': 'https://genius.com/artists/The-smiths'}]}"
      ]
     },
     "execution_count": 7,
     "metadata": {},
     "output_type": "execute_result"
    }
   ],
   "source": [
    "response['response']['hits'][0]['result']"
   ]
  },
  {
   "cell_type": "code",
   "execution_count": null,
   "metadata": {},
   "outputs": [],
   "source": []
  }
 ],
 "metadata": {
  "kernelspec": {
   "display_name": "base",
   "language": "python",
   "name": "python3"
  },
  "language_info": {
   "codemirror_mode": {
    "name": "ipython",
    "version": 3
   },
   "file_extension": ".py",
   "mimetype": "text/x-python",
   "name": "python",
   "nbconvert_exporter": "python",
   "pygments_lexer": "ipython3",
   "version": "3.11.5"
  }
 },
 "nbformat": 4,
 "nbformat_minor": 2
}
