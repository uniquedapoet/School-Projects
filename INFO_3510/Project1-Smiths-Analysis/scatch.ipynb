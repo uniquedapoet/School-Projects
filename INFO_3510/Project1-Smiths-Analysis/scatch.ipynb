{
 "cells": [
  {
   "cell_type": "code",
   "execution_count": 14,
   "metadata": {},
   "outputs": [
    {
     "name": "stdout",
     "output_type": "stream",
     "text": [
      "Access Token: wVHaUWIHrj91lNdOQpkPkPkbjmS-2dV5RecaBnJUSR9SxKKWQLFrlW5zf3gN7Guk\n"
     ]
    }
   ],
   "source": [
    "import requests\n",
    "import os\n",
    "from dotenv import load_dotenv\n",
    "def get_access_token(url, client_id, client_secret):\n",
    "    url = url\n",
    "    data = {\n",
    "        'client_id': client_id,\n",
    "        'client_secret': client_secret,\n",
    "        'grant_type': 'client_credentials'\n",
    "    }\n",
    "    response = requests.post(url, data=data)\n",
    "    response_data = response.json()\n",
    "    if response.status_code != 200:\n",
    "        print('Error:', response_data['error'])\n",
    "        return None\n",
    "    else:\n",
    "        print('Access Token:', response_data['access_token'])\n",
    "        return response_data['access_token']\n",
    "load_dotenv('3510.env')\n",
    "client_id = os.getenv('GENIUS_CLIENT_ID')\n",
    "client_secret = os.getenv('GENIUS_SECRET')\n",
    "access_token = get_access_token(url='https://api.genius.com/oauth/token', client_id=client_id, client_secret=client_secret)"
   ]
  },
  {
   "cell_type": "code",
   "execution_count": 25,
   "metadata": {},
   "outputs": [],
   "source": [
    "url = 'https://api.genius.com/search'\n",
    "headers = {\n",
    "    'Authorization': f'Bearer {access_token}'\n",
    "}\n",
    "params = {\n",
    "    'q': 'The Queen Is Dead',\n",
    "}\n",
    "response = requests.get(url, headers=headers, params=params).json()"
   ]
  },
  {
   "cell_type": "code",
   "execution_count": null,
   "metadata": {},
   "outputs": [],
   "source": []
  },
  {
   "cell_type": "code",
   "execution_count": null,
   "metadata": {},
   "outputs": [],
   "source": []
  }
 ],
 "metadata": {
  "kernelspec": {
   "display_name": "base",
   "language": "python",
   "name": "python3"
  },
  "language_info": {
   "codemirror_mode": {
    "name": "ipython",
    "version": 3
   },
   "file_extension": ".py",
   "mimetype": "text/x-python",
   "name": "python",
   "nbconvert_exporter": "python",
   "pygments_lexer": "ipython3",
   "version": "3.11.5"
  }
 },
 "nbformat": 4,
 "nbformat_minor": 2
}
