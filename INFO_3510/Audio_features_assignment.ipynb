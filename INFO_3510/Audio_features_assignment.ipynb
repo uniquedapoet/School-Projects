{
 "cells": [
  {
   "cell_type": "code",
   "execution_count": 45,
   "metadata": {},
   "outputs": [],
   "source": [
    "# ## Objective\n",
    "\n",
    "# Using the audio feature endpoint of the Spotify API, get the audio\n",
    "#  features for a song of your choosing following \n",
    "# the process we used in class for the Soulive song \"One in Seven\".  \n",
    "# In your submission, please include the following information:\n",
    "\n",
    "# Artist Name\n",
    "# Song Title\n",
    "# Spotify Link\n",
    "# Tempo\n",
    "# Mode\n",
    "# Valence\n",
    "# Key (write some code to translate this from an integer to a string)\n",
    "\n",
    "# Try to verify the data yourself.  Tap out the tempo using \n",
    "# taptempo.io as we did in class.  If you have enough ear\n",
    "# training to figure out if the song is major/minor and it's\n",
    "#  likely key signature, go for it!  If not, see if you can \n",
    "# discern whether or not the music sounds \"major\" or \"minor\" \n",
    "# as we discussed in class. Also, see if the calculate valence \n",
    "# of the song matches your impression."
   ]
  },
  {
   "cell_type": "code",
   "execution_count": 46,
   "metadata": {},
   "outputs": [],
   "source": [
    "from dotenv import load_dotenv\n",
    "import requests\n",
    "import os\n",
    "\n",
    "load_dotenv(\"3510.env\")\n",
    "\n",
    "clientID = os.getenv(\"SPOTIFY_CLIENT_ID\")\n",
    "clientSecret = os.getenv(\"SPOTIFY_CLIENT_SECRET\")\n",
    "\n",
    "grantType = 'client_credentials'\n",
    "bodyParams = {'grant_type':grantType}\n",
    "url = \"https://accounts.spotify.com/api/token\"\n",
    "responseJSON = requests.post(url, data=bodyParams, auth = (clientID,clientSecret)).json()\n",
    "acess_token = responseJSON['access_token']"
   ]
  },
  {
   "cell_type": "code",
   "execution_count": 47,
   "metadata": {},
   "outputs": [],
   "source": [
    "rootURL = 'https://api.spotify.com/v1/'\n",
    "headers = {\"Authorization\":\"Bearer \"+responseJSON[\"access_token\"]}\n",
    "smiths_search = requests.get(rootURL+'search?q=TheSmiths&type=artist',headers=headers).json()\n",
    "smithsID = smiths_search['artists']['items'][0]['id']\n",
    "artistName = smiths_search['artists']['items'][0]['name']"
   ]
  },
  {
   "cell_type": "code",
   "execution_count": 48,
   "metadata": {},
   "outputs": [],
   "source": [
    "smiths_album_search = requests.get(rootURL+'artists/'+smithsID+'/albums',headers=headers).json()\n",
    "for album in smiths_album_search['items']:\n",
    "    if album['name'] == 'Louder Than Bombs':\n",
    "        louder_than_bombs_id = album['id']\n",
    "        album_name = album['name']\n",
    "        break\n"
   ]
  },
  {
   "cell_type": "code",
   "execution_count": 49,
   "metadata": {},
   "outputs": [
    {
     "name": "stdout",
     "output_type": "stream",
     "text": [
      "1H5N26VqHR4JhuaRKY2I0u\n"
     ]
    }
   ],
   "source": [
    "LTB_tracks = requests.get(rootURL+'albums/'+louder_than_bombs_id+'/tracks',headers=headers).json()\n",
    "for track in LTB_tracks['items']:\n",
    "    if track['name'] == \"Heaven Knows I'm Miserable Now - 2011 Remaster\":\n",
    "        track_id = track['id']\n",
    "        track_name = track['name']\n",
    "        print(track_id)\n",
    "        break\n"
   ]
  },
  {
   "cell_type": "code",
   "execution_count": 50,
   "metadata": {},
   "outputs": [
    {
     "name": "stdout",
     "output_type": "stream",
     "text": [
      "danceability 0.609\n",
      "energy 0.759\n",
      "key 6\n",
      "loudness -4.862\n",
      "mode 1\n",
      "speechiness 0.0276\n",
      "acousticness 0.028\n",
      "instrumentalness 0\n",
      "liveness 0.183\n",
      "valence 0.774\n",
      "tempo 114.045\n",
      "type audio_features\n",
      "id 1H5N26VqHR4JhuaRKY2I0u\n",
      "uri spotify:track:1H5N26VqHR4JhuaRKY2I0u\n",
      "track_href https://api.spotify.com/v1/tracks/1H5N26VqHR4JhuaRKY2I0u\n",
      "analysis_url https://api.spotify.com/v1/audio-analysis/1H5N26VqHR4JhuaRKY2I0u\n",
      "duration_ms 215760\n",
      "time_signature 4\n"
     ]
    }
   ],
   "source": [
    "Heaven_Knows = requests.get(rootURL+'audio-features/'+track_id,headers=headers).json()\n",
    "for key in Heaven_Knows:\n",
    "    print(key, Heaven_Knows[key])\n",
    "track_url = Heaven_Knows['track_href']\n",
    "tempo = Heaven_Knows['tempo']\n",
    "mode = Heaven_Knows['mode']\n",
    "valence = Heaven_Knows['valence']\n",
    "key = Heaven_Knows['key']"
   ]
  },
  {
   "cell_type": "code",
   "execution_count": null,
   "metadata": {},
   "outputs": [],
   "source": []
  },
  {
   "cell_type": "code",
   "execution_count": 53,
   "metadata": {},
   "outputs": [
    {
     "name": "stdout",
     "output_type": "stream",
     "text": [
      "Artist Name:  The Smiths\n",
      "Song Title:  Heaven Knows I'm Miserable Now - 2011 Remaster\n",
      "Spotify Link:  https://api.spotify.com/v1/tracks/1H5N26VqHR4JhuaRKY2I0u\n",
      "Tempo:  114.045\n",
      "Mode:  1\n",
      "Valence:  0.774\n",
      "Key:  6\n"
     ]
    }
   ],
   "source": [
    "print(\"Artist Name: \", artistName)  \n",
    "print(\"Song Title: \", track_name)\n",
    "print(\"Spotify Link: \", track_url)\n",
    "print(\"Tempo: \", tempo)\n",
    "print(\"Mode: \", mode)\n",
    "print(\"Valence: \", valence)\n",
    "print(\"Key: \", key)\n"
   ]
  },
  {
   "cell_type": "code",
   "execution_count": null,
   "metadata": {},
   "outputs": [],
   "source": []
  }
 ],
 "metadata": {
  "kernelspec": {
   "display_name": "base",
   "language": "python",
   "name": "python3"
  },
  "language_info": {
   "codemirror_mode": {
    "name": "ipython",
    "version": 3
   },
   "file_extension": ".py",
   "mimetype": "text/x-python",
   "name": "python",
   "nbconvert_exporter": "python",
   "pygments_lexer": "ipython3",
   "version": "3.11.5"
  }
 },
 "nbformat": 4,
 "nbformat_minor": 2
}
